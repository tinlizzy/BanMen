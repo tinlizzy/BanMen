{
 "cells": [
  {
   "cell_type": "code",
   "execution_count": 1,
   "metadata": {
    "collapsed": false
   },
   "outputs": [
    {
     "ename": "IOError",
     "evalue": "[Errno 2] No such file or directory: '/somedir/mytweetFile.csv'",
     "output_type": "error",
     "traceback": [
      "\u001b[0;31m---------------------------------------------------------------------------\u001b[0m",
      "\u001b[0;31mIOError\u001b[0m                                   Traceback (most recent call last)",
      "\u001b[0;32m<ipython-input-1-ef00eb8e823d>\u001b[0m in \u001b[0;36m<module>\u001b[0;34m()\u001b[0m\n\u001b[1;32m      5\u001b[0m \u001b[0;34m\u001b[0m\u001b[0m\n\u001b[1;32m      6\u001b[0m \u001b[0;31m# count the num of rows in the csv file\u001b[0m\u001b[0;34m\u001b[0m\u001b[0;34m\u001b[0m\u001b[0m\n\u001b[0;32m----> 7\u001b[0;31m \u001b[0;32mwith\u001b[0m \u001b[0mopen\u001b[0m\u001b[0;34m(\u001b[0m\u001b[0mcsvfile\u001b[0m\u001b[0;34m,\u001b[0m\u001b[0;34m\"rU\"\u001b[0m\u001b[0;34m)\u001b[0m \u001b[0;32mas\u001b[0m \u001b[0mf\u001b[0m\u001b[0;34m:\u001b[0m\u001b[0;34m\u001b[0m\u001b[0m\n\u001b[0m\u001b[1;32m      8\u001b[0m     \u001b[0mreader\u001b[0m \u001b[0;34m=\u001b[0m \u001b[0mcsv\u001b[0m\u001b[0;34m.\u001b[0m\u001b[0mreader\u001b[0m\u001b[0;34m(\u001b[0m\u001b[0mf\u001b[0m\u001b[0;34m,\u001b[0m\u001b[0mdelimiter\u001b[0m \u001b[0;34m=\u001b[0m \u001b[0;34m\",\"\u001b[0m\u001b[0;34m)\u001b[0m\u001b[0;34m\u001b[0m\u001b[0m\n\u001b[1;32m      9\u001b[0m     \u001b[0mdata\u001b[0m \u001b[0;34m=\u001b[0m \u001b[0mlist\u001b[0m\u001b[0;34m(\u001b[0m\u001b[0mreader\u001b[0m\u001b[0;34m)\u001b[0m\u001b[0;34m\u001b[0m\u001b[0m\n",
      "\u001b[0;31mIOError\u001b[0m: [Errno 2] No such file or directory: '/somedir/mytweetFile.csv'"
     ]
    }
   ],
   "source": [
    "import csv\n",
    "\n",
    "# set local csv file to read from\n",
    "csvfile = \"/somedir/mytweetFile.csv\"\n",
    "   \n",
    "# count the num of rows in the csv file\n",
    "with open(csvfile,\"rU\") as f:\n",
    "    reader = csv.reader(f,delimiter = \",\")\n",
    "    data = list(reader)\n",
    "    row_count = len(data)\n",
    "\n",
    "# generate a random number between 1 and the num of rows in the spreadsheet\n",
    "# i.e. 0 thru row_count-1, since 1st row = row 0\n",
    "import random\n",
    "for x in range(1):\n",
    "    RandNum = random.randint(0,(row_count-1))\n",
    "\n",
    "# define tweetfile as a dataframe \n",
    "import pandas as pd\n",
    "tweetFile = pd.read_csv(csvfile, header=None, encoding='utf-8')\n",
    "\n",
    "# extract tweet from the RandNum-th row of the csv tweet column\n",
    "msg = tweetFile.iloc[RandNum,0]\n",
    "\n",
    "# Import the relevant Twitter libraries so you can post to Twitter.\n",
    "import twitter\n",
    "from twitter import TwitterError\n",
    "\n",
    "# Set your Twitter API credentials.\n",
    "api = twitter.Api(consumer_key='pullFromYourTwitterAPI',\n",
    "                  consumer_secret='pullFromYourTwitterAPI',\n",
    "                  access_token_key='pullFromYourTwitterAPI',\n",
    "                  access_token_secret='pullFromYourTwitterAPI')\n",
    "\n",
    "# try to post the tweet you randomly pulled/set above\n",
    "try:\n",
    "    status = api.PostUpdate(msg)\n",
    "    print(status.text)\n",
    "\n",
    "# if 1st tweet attempt is a dupe tweet, try this block to generate a new random number & tweet msg\n",
    "except TwitterError:  \n",
    "    for x in range(1):\n",
    "        RandNum = random.randint(0,(row_count-1))\n",
    "    msg = tweetFile.iloc[RandNum,0]\n",
    "    status = api.PostUpdate(msg)\n",
    "    print(status.text)\n",
    "\n"
   ]
  },
  {
   "cell_type": "code",
   "execution_count": null,
   "metadata": {
    "collapsed": true
   },
   "outputs": [],
   "source": []
  },
  {
   "cell_type": "code",
   "execution_count": null,
   "metadata": {
    "collapsed": true
   },
   "outputs": [],
   "source": []
  }
 ],
 "metadata": {
  "kernelspec": {
   "display_name": "Python 2",
   "language": "python",
   "name": "python2"
  },
  "language_info": {
   "codemirror_mode": {
    "name": "ipython",
    "version": 2
   },
   "file_extension": ".py",
   "mimetype": "text/x-python",
   "name": "python",
   "nbconvert_exporter": "python",
   "pygments_lexer": "ipython2",
   "version": "2.7.11"
  }
 },
 "nbformat": 4,
 "nbformat_minor": 0
}
